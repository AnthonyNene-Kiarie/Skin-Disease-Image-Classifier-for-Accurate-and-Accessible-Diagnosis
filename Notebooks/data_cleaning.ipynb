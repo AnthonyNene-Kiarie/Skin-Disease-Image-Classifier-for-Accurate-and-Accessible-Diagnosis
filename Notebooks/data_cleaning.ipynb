<<<<<<< HEAD
{
 "cells": [
  {
   "cell_type": "markdown",
   "metadata": {
    "id": "Y40A2BiAqV-8"
   },
   "source": [
    "# Data cleaning"
   ]
  },
  {
   "cell_type": "markdown",
   "metadata": {
    "id": "3BSvVpZ5qV_B"
   },
   "source": [
    "**Import required libraries**"
   ]
  },
  {
   "cell_type": "code",
   "execution_count": 43,
   "metadata": {
    "id": "FZoRTnOcqV_C"
   },
   "outputs": [],
   "source": [
    "# import required libraries\n",
    "import pandas as pd\n",
    "import shutil\n",
    "import os\n",
    "from PIL import Image\n",
    "import imagehash \n",
    "import re\n",
    "import random"
   ]
  },
  {
   "cell_type": "markdown",
   "metadata": {
    "id": "jiAj5jBSqV_F"
   },
   "source": [
    "**Loading the scrapped data from DermNet.**"
   ]
  },
  {
   "cell_type": "code",
   "execution_count": 44,
   "metadata": {
    "id": "nwcME1kYqV_G",
    "outputId": "b9a8980e-7bfe-4e75-e6a9-3b8b9b64eaa2"
   },
   "outputs": [
    {
     "name": "stdout",
     "output_type": "stream",
     "text": [
      "(13992, 2)\n"
     ]
    },
    {
     "data": {
      "text/html": [
       "<div>\n",
       "<style scoped>\n",
       "    .dataframe tbody tr th:only-of-type {\n",
       "        vertical-align: middle;\n",
       "    }\n",
       "\n",
       "    .dataframe tbody tr th {\n",
       "        vertical-align: top;\n",
       "    }\n",
       "\n",
       "    .dataframe thead th {\n",
       "        text-align: right;\n",
       "    }\n",
       "</style>\n",
       "<table border=\"1\" class=\"dataframe\">\n",
       "  <thead>\n",
       "    <tr style=\"text-align: right;\">\n",
       "      <th></th>\n",
       "      <th>skin_disorder_name</th>\n",
       "      <th>images</th>\n",
       "    </tr>\n",
       "  </thead>\n",
       "  <tbody>\n",
       "    <tr>\n",
       "      <th>0</th>\n",
       "      <td>acne affecting the back images</td>\n",
       "      <td>https://dermnetnz.org/assets/Uploads/acne/acne...</td>\n",
       "    </tr>\n",
       "    <tr>\n",
       "      <th>1</th>\n",
       "      <td>acne affecting the back images</td>\n",
       "      <td>https://dermnetnz.org/assets/Uploads/acne/acne...</td>\n",
       "    </tr>\n",
       "    <tr>\n",
       "      <th>2</th>\n",
       "      <td>acne affecting the back images</td>\n",
       "      <td>https://dermnetnz.org/assets/Uploads/acne/acne...</td>\n",
       "    </tr>\n",
       "    <tr>\n",
       "      <th>3</th>\n",
       "      <td>acne affecting the back images</td>\n",
       "      <td>https://dermnetnz.org/assets/Uploads/acne/acne...</td>\n",
       "    </tr>\n",
       "    <tr>\n",
       "      <th>4</th>\n",
       "      <td>acne affecting the back images</td>\n",
       "      <td>https://dermnetnz.org/assets/Uploads/acne/acne...</td>\n",
       "    </tr>\n",
       "  </tbody>\n",
       "</table>\n",
       "</div>"
      ],
      "text/plain": [
       "               skin_disorder_name  \\\n",
       "0  acne affecting the back images   \n",
       "1  acne affecting the back images   \n",
       "2  acne affecting the back images   \n",
       "3  acne affecting the back images   \n",
       "4  acne affecting the back images   \n",
       "\n",
       "                                              images  \n",
       "0  https://dermnetnz.org/assets/Uploads/acne/acne...  \n",
       "1  https://dermnetnz.org/assets/Uploads/acne/acne...  \n",
       "2  https://dermnetnz.org/assets/Uploads/acne/acne...  \n",
       "3  https://dermnetnz.org/assets/Uploads/acne/acne...  \n",
       "4  https://dermnetnz.org/assets/Uploads/acne/acne...  "
      ]
     },
     "execution_count": 44,
     "metadata": {},
     "output_type": "execute_result"
    }
   ],
   "source": [
    "# load and preview dataset\n",
    "image_df = pd.read_csv('Data/data1-294.csv')\n",
    "print(image_df.shape)\n",
    "image_df.head()"
   ]
  },
  {
   "cell_type": "markdown",
   "metadata": {
    "id": "QhbQVr0MqV_I"
   },
   "source": [
    "## **<u>Acne</u>**\n",
    "\n",
    "**Meaning**<br>\n",
    "Acne is a common skin condition that occurs when hair follicles become clogged with oil and dead skin cells. This leads to the formation of pimples, blackheads, whiteheads, and sometimes deeper cysts. Acne usually appears on the face, neck, chest, back, and shoulders, and can affect people of all ages, although it is most common during puberty.<br>\n",
    "\n",
    "**Causes**<br>\n",
    "The causes of acne are multifactorial and can include hormonal imbalances, genetics, stress, certain medications, and an overproduction of sebum, the oily substance that lubricates the skin. Certain factors such as diet and hygiene practices have also been implicated in the development of acne, although the evidence for these is less clear.<br>\n",
    "\n",
    "**Symptoms**<br>\n",
    "The symptoms of acne can vary depending on the severity of the condition. Mild acne may only present with a few blackheads or whiteheads, while moderate acne can involve a combination of pimples, blackheads, and whiteheads. Severe acne may include deep, painful cysts that can lead to scarring. Acne can also have a significant impact on a person's self-esteem and mental health, particularly if it is severe or persistent.\n",
    "\n",
    "**Treatment**<br>\n",
    "Treatment options for acne depend on the severity of the condition. Mild acne can often be managed with over-the-counter topical treatments that contain benzoyl peroxide or salicylic acid. These products work by reducing the amount of oil on the skin and unclogging pores. More severe acne may require prescription medications, such as topical retinoids or oral antibiotics, which can help to reduce inflammation and kill the bacteria that cause acne. In cases of severe, persistent acne, isotretinoin, a powerful oral medication, may be prescribed. Additionally, lifestyle modifications such as maintaining good hygiene practices, avoiding certain foods, and managing stress can also be helpful in managing acne.\n"
   ]
  },
  {
   "cell_type": "markdown",
   "metadata": {
    "id": "PikkQWVzqV_J"
   },
   "source": [
    "### **Cleaning Acne images**"
   ]
  },
  {
   "cell_type": "markdown",
   "metadata": {
    "id": "3eg4IouMqV_P"
   },
   "source": [
    "**i. Moving acne images in the Images folder to their own folder**"
   ]
  },
  {
   "cell_type": "code",
   "execution_count": 45,
   "metadata": {},
   "outputs": [
    {
     "data": {
      "text/plain": [
       "['acne affecting the back images',\n",
       " 'acne affecting the face images',\n",
       " 'acne and other follicular disorder images',\n",
       " 'facial acne images']"
      ]
     },
     "execution_count": 45,
     "metadata": {},
     "output_type": "execute_result"
    }
   ],
   "source": [
    "# Labels representing acne in DermNet's scrapped data\n",
    "acne_labels = list(image_df[image_df['skin_disorder_name'].str.contains('acne')]['skin_disorder_name'].unique())\n",
    "\n",
    "# removing acne labels whose images will not be used because there are not clear\n",
    "acne_labels.remove('infantile acne images')\n",
    "acne_labels.remove('steroid acne images')\n",
    "\n",
    "acne_labels"
   ]
  },
  {
   "cell_type": "code",
   "execution_count": 46,
   "metadata": {
    "id": "yupMjov1qV_P",
    "outputId": "96be78da-fe3d-4484-920a-87d137c1a7e5"
   },
   "outputs": [
    {
     "name": "stdout",
     "output_type": "stream",
     "text": [
      "There are 702 acne images\n"
     ]
    },
    {
     "data": {
      "text/plain": [
       "['acne affecting the back images0.jpg',\n",
       " 'acne affecting the back images1.jpg',\n",
       " 'acne affecting the back images10.jpg',\n",
       " 'acne affecting the back images11.jpg',\n",
       " 'acne affecting the back images12.jpg']"
      ]
     },
     "execution_count": 46,
     "metadata": {},
     "output_type": "execute_result"
    }
   ],
   "source": [
    "# Getting the acne images file names\n",
    "original_acne_img = [image_name for image_name in os.listdir('Images/') \\\n",
    "                     if ('acne affecting the back images' in image_name) |\\\n",
    "                        ('acne affecting the face images' in image_name) |\\\n",
    "                        ('acne and other follicular disorder images' in image_name) |\\\n",
    "                        ('facial acne images' in image_name) \n",
    "                        ] \n",
    "\n",
    "# Confirming the number of acne images before any cleaning\n",
    "print('There are', len(original_acne_img),'acne images')\n",
    "original_acne_img[:5]"
   ]
  },
  {
   "cell_type": "code",
   "execution_count": 47,
   "metadata": {
    "id": "MHuGp5brqV_Q"
   },
   "outputs": [
    {
     "name": "stdout",
     "output_type": "stream",
     "text": [
      "There are 702 acne images.\n"
     ]
    }
   ],
   "source": [
    "# Creating a new folder with just acne images to make cleaning easier\n",
    "folder_name = 'cleaned_images/acne_images/'\n",
    "\n",
    "\n",
    "# Note📝: For reproducibility of the code, this step is important.\n",
    "         # If the folder is not dropped before an error will occur if you rerun this cell\n",
    "         \n",
    "# Checking if the folder exists and deleting it if it exists        \n",
    "if os.path.exists(folder_name):\n",
    "    # deleting the folder and its contents\n",
    "    shutil.rmtree(folder_name)\n",
    "\n",
    "# create the new folder\n",
    "os.mkdir(folder_name)\n",
    "\n",
    "# Moving the images into that folder\n",
    "for img in original_acne_img:\n",
    "    origin = os.path.join('Images/', img)\n",
    "    destination = os.path.join(folder_name, img)\n",
    "    shutil.copy(origin, destination)\n",
    "    \n",
    "# Confirming that the number of acne images after moving them to a separate folder is still 702\n",
    "acne_img = [image_name for image_name in os.listdir('cleaned_images/acne_images/')] \n",
    "print('There are', len(acne_img),'acne images.')"
   ]
  },
  {
   "cell_type": "markdown",
   "metadata": {
    "id": "0bmjc5YSqV_f"
   },
   "source": [
    "**ii. Combining the images into one folder**"
   ]
  },
  {
   "cell_type": "code",
   "execution_count": 48,
   "metadata": {},
   "outputs": [
    {
     "data": {
      "text/plain": [
       "['07Acne081101.jpg',\n",
       " '07Acne0811011 - Copy.jpg',\n",
       " '07Acne0811011.jpg',\n",
       " '07AcnePittedScars.jpg',\n",
       " '07AcnePittedScars1 - Copy.jpg']"
      ]
     },
     "execution_count": 48,
     "metadata": {},
     "output_type": "execute_result"
    }
   ],
   "source": [
    "# extra acne images\n",
    "extra_acne = [image_name for image_name in os.listdir('extra_images/extra_acne_images')]\n",
    "extra_acne[:5]"
   ]
  },
  {
   "cell_type": "code",
   "execution_count": 49,
   "metadata": {
    "id": "S0L6n2I5qV_f"
   },
   "outputs": [
    {
     "name": "stdout",
     "output_type": "stream",
     "text": [
      "There are a total of 1427 acne images.\n"
     ]
    }
   ],
   "source": [
    "# moving the extra images into the acne folder\n",
    "for img in extra_acne:\n",
    "    origin = os.path.join('extra_images/extra_acne_images/', img)\n",
    "    destination = os.path.join('cleaned_images/acne_images/', img)\n",
    "    shutil.copy(origin, destination)\n",
    "\n",
    "# Confirming that the total acne images is 1427 before any cleaning\n",
    "acne_img = [image_name for image_name in os.listdir('cleaned_images/acne_images/')] \n",
    "print('There are a total of', len(acne_img),'acne images.')"
   ]
  },
  {
   "cell_type": "markdown",
   "metadata": {
    "id": "JbJiF3tyqV_g"
   },
   "source": [
    "**iii. Removing duplicate images from the folder**"
   ]
  },
  {
   "cell_type": "code",
   "execution_count": 50,
   "metadata": {
    "id": "8HkHHa5VqV_g"
   },
   "outputs": [],
   "source": [
    "# Function for removing duplicated images.\n",
    "def drop_duplicated_images(folder):\n",
    "\n",
    "    # Define a threshold for image similarity\n",
    "    threshold = 8\n",
    "\n",
    "    # Define a dictionary to store the hash values and file paths of the images\n",
    "    image_hashes = {}\n",
    "    duplicated_images = []\n",
    "\n",
    "    # Loop through all the image files in a directory\n",
    "    for filename in os.listdir(folder):\n",
    "        # Load the image file\n",
    "        image = Image.open(os.path.join(folder, filename))\n",
    "\n",
    "         # Compute the hash value of the image using the average hash algorithm\n",
    "        hash_value = imagehash.average_hash(image)\n",
    "\n",
    "        # Check if the hash value is already in the dictionary\n",
    "        if hash_value in image_hashes:\n",
    "            # If a similar hash value already exists, delete the duplicate image\n",
    "            duplicated_images.append(filename)\n",
    "            os.remove(os.path.join(folder, filename))\n",
    "        else:\n",
    "             # Otherwise, add the hash value and file path to the dictionary\n",
    "            image_hashes[hash_value] = os.path.join(folder, filename)\n",
    "            \n",
    "    return duplicated_images"
   ]
  },
  {
   "cell_type": "code",
   "execution_count": 51,
   "metadata": {
    "id": "nFjm3IQQqV_h",
    "outputId": "f9fac605-f420-4b46-98c5-f32f403c046b"
   },
   "outputs": [
    {
     "name": "stdout",
     "output_type": "stream",
     "text": [
      "There are 1109 acne images after removing duplicated images\n"
     ]
    }
   ],
   "source": [
    "# Dropping duplicates\n",
    "duplicated_images = drop_duplicated_images('cleaned_images/acne_images/')\n",
    "\n",
    "# number of acne images after removing duplicated images (1109)\n",
    "acne_img = [image_name for image_name in os.listdir('cleaned_images/acne_images/')] \n",
    "print('There are', len(acne_img),'acne images after removing duplicated images')"
   ]
  },
  {
   "cell_type": "markdown",
   "metadata": {
    "id": "nHe0jmufqV_j"
   },
   "source": [
    "Acne and other follicular disorder images has a collection of different images. Only images that have acne as a specific label will be included, the others will be dropped from the dataset. </br>"
   ]
  },
  {
   "cell_type": "code",
   "execution_count": 12,
   "metadata": {},
   "outputs": [
    {
     "name": "stdout",
     "output_type": "stream",
     "text": [
      "Number of acne images left: 1000\n"
     ]
    }
   ],
   "source": [
    "# dropping those images from the acne_images folder\n",
    "indexes_to_drop = [295, 296, 297, 298, 300, 303, 304, 307, 308, 309, 310, 311, 313, 314, 315, 316, 317, 318, 319, 320, 321, 322, 323, 325, 326, 328, 329, 330, 333, 337, 338, 339, 341, 342, 343, 344, 345, 346, 347, 348, 349, 350, 351, 354, 355, 359, 361, 362, 363, 364, 366, 367, 368, 371, 372, 373, 374, 375, 376, 378, 380, 381, 382, 384, 385, 387, 388, 389, 390, 392, 393, 395, 396, 397, 398, 402, 403, 405, 408, 409, 411, 413, 415, 416, 417, 419, 420, 421, 422, 423, 424, 425, 426, 427, 428, 429, 431, 432, 433, 434, 436, 437, 438, 441, 443, 444, 445, 446, 447]\n",
    "\n",
    "for filename in os.listdir('cleaned_images/acne_images/'):\n",
    "    for index in indexes_to_drop:\n",
    "        if f\"images{index}\" in filename.lower():\n",
    "            os.remove(os.path.join('cleaned_images/acne_images/', filename))\n",
    "            \n",
    "print(\"Number of acne images left:\", len(os.listdir('cleaned_images/acne_images/')))"
   ]
  },
  {
   "cell_type": "markdown",
   "metadata": {
    "id": "q6eohIj7qV_l"
   },
   "source": [
    "## **<u>Atopic dermatitis(Eczema) </u>**\n",
    "\n",
    "**Meaning**<br>\n",
    "Atopic dermatitis, also known as eczema, is a chronic inflammatory skin condition that is characterized by dry, itchy, and inflamed patches of skin. It is a common condition that can affect people of all ages, but it is most common in infants and children. <br>\n",
    "\n",
    "**Causes**<br>\n",
    "The exact causes of atopic dermatitis are not fully understood, but it is believed to be a combination of genetic and environmental factors. People with atopic dermatitis often have a genetic predisposition to the condition, and environmental triggers such as allergens, irritants, and stress can exacerbate the symptoms.\n",
    "\n",
    "**Symptoms**<br>\n",
    "The symptoms of atopic dermatitis can vary depending on the severity of the condition. Mild cases may only present with dry, itchy skin, while more severe cases can lead to red, inflamed, and weeping skin lesions. In some cases, the skin may become thickened and scaly. Atopic dermatitis can also cause significant discomfort and interfere with a person's quality of life.\n",
    "\n",
    "**Treatment**<br>\n",
    "Treatment options for eczema include using gentle soaps and moisturizers, avoiding harsh chemicals and irritants, and taking short, lukewarm baths or showers. Prescription creams or ointments containing corticosteroids or immunosuppressants may be used for more severe cases of eczema. Antihistamines can also be helpful in reducing itching. <br>\n",
    "Preventing flare-ups of eczema can be done by avoiding triggers such as certain foods, allergens, and irritants. Regular use of moisturizers can also help to keep the skin hydrated and reduce the risk of flare-ups.<br>"
   ]
  },
  {
   "cell_type": "markdown",
   "metadata": {
    "id": "2xZTIUQlqV_l"
   },
   "source": [
    "### **Cleaning Eczema images**"
   ]
  },
  {
   "cell_type": "markdown",
   "metadata": {
    "id": "6ONCkTm6qV_m"
   },
   "source": [
    "**i. Moving eczema images in the Image folder to their own folder**"
   ]
  },
  {
   "cell_type": "code",
   "execution_count": 21,
   "metadata": {
    "id": "BDnjqb6aqV_m",
    "outputId": "cb26352f-6658-4c7a-f629-b69b8eb76ae0"
   },
   "outputs": [
    {
     "data": {
      "text/plain": [
       "8"
      ]
     },
     "execution_count": 21,
     "metadata": {},
     "output_type": "execute_result"
    }
   ],
   "source": [
    "# Labels representing eczema in Dermnet's scraped data.\n",
    "eczema_labels = image_df[(image_df['skin_disorder_name'].str.contains('eczema')) | \\\n",
    "                         (image_df['skin_disorder_name'].str.contains('atopic dermatitis images')) |\\\n",
    "                         (image_df['skin_disorder_name'].str.contains('hand dermatitis images')) |\\\n",
    "                         (image_df['skin_disorder_name'] == 'dermatitis images') |\\\n",
    "                         (image_df['skin_disorder_name'].str.contains('nummular dermatitis images'))] \\\n",
    "                         ['skin_disorder_name'].unique()\n",
    "len(eczema_labels)"
   ]
  },
  {
   "cell_type": "code",
   "execution_count": 22,
   "metadata": {},
   "outputs": [
    {
     "name": "stdout",
     "output_type": "stream",
     "text": [
      "There are 631 eczema images.\n"
     ]
    },
    {
     "data": {
      "text/plain": [
       "['atopic dermatitis images1058.jpg',\n",
       " 'atopic dermatitis images1059.jpg',\n",
       " 'atopic dermatitis images1060.jpg',\n",
       " 'atopic dermatitis images1061.jpg',\n",
       " 'atopic dermatitis images1062.jpg']"
      ]
     },
     "execution_count": 22,
     "metadata": {},
     "output_type": "execute_result"
    }
   ],
   "source": [
    "# Getting the eczema images file names\n",
    "eczema_img = [image_name for image_name in os.listdir('Images/') if ('eczema' in image_name) |\n",
    "                                                                    ('atopic dermatitis images' in image_name) |\n",
    "                                                                    ('hand dermatitis images' in image_name) | \n",
    "                                                                    (image_name.startswith('dermatitis images'))|\n",
    "                                                                    ('nummular dermatitis images' in image_name)\n",
    "                                                                     ] \n",
    "\n",
    "# Confirming the number of eczema images before any cleaning\n",
    "print('There are', len(eczema_img),'eczema images.')\n",
    "eczema_img[:5]"
   ]
  },
  {
   "cell_type": "code",
   "execution_count": 23,
   "metadata": {
    "id": "WdlcE53rqV_p"
   },
   "outputs": [],
   "source": [
    "# Creating a new folder with just eczema images to make cleaning easier\n",
    "folder_name = 'cleaned_images/eczema_images/'\n",
    "\n",
    "# Note📝: For reproducibility of the code, this step is important.\n",
    "         # If the folder is not dropped before an error will occur if you rerun this cell\n",
    "         \n",
    "# Checking if the folder exists and deleting it if it exists         \n",
    "if os.path.exists(folder_name):\n",
    "    # deleting the folder and its contents\n",
    "    shutil.rmtree(folder_name)\n",
    "\n",
    "# create the new folder\n",
    "os.mkdir(folder_name)\n",
    "\n",
    "# Moving the images into that folder\n",
    "for img in eczema_img:\n",
    "    origin = os.path.join('Images/', img)\n",
    "    destination = os.path.join(folder_name, img)\n",
    "    shutil.copy(origin, destination)"
   ]
  },
  {
   "cell_type": "code",
   "execution_count": 24,
   "metadata": {
    "id": "2Bm8cKhDqV_p",
    "outputId": "afeccd3f-f52c-4d4b-8249-78a2585e8cd7"
   },
   "outputs": [
    {
     "name": "stdout",
     "output_type": "stream",
     "text": [
      "There are 631 eczema images.\n"
     ]
    }
   ],
   "source": [
    "# Confirming that the number of eczema images after moving them to a separate folder is still 631\n",
    "eczema_img = [image_name for image_name in os.listdir('cleaned_images/eczema_images/')] \n",
    "print('There are', len(eczema_img),'eczema images.')"
   ]
  },
  {
   "cell_type": "markdown",
   "metadata": {
    "id": "WlkUMl_oqV_q"
   },
   "source": [
    "**ii. Combining the images into one folder**"
   ]
  },
  {
   "cell_type": "code",
   "execution_count": 25,
   "metadata": {},
   "outputs": [
    {
     "data": {
      "text/plain": [
       "['eczema234.jpg',\n",
       " 'eczema289.jpg',\n",
       " 'eczema301.jpg',\n",
       " 'eczema403.jpg',\n",
       " 'eczema500.jpg']"
      ]
     },
     "execution_count": 25,
     "metadata": {},
     "output_type": "execute_result"
    }
   ],
   "source": [
    "# Extra eczema images\n",
    "extra_eczema = [image_name for image_name in os.listdir('extra_images/extra_eczema')]\n",
    "\n",
    "# The folder has a mixture of images. We will filter out the eczema images only\n",
    "extra_eczema_images = [image_name for image_name in extra_eczema\\\n",
    "                        if ('dermatitis' in image_name) |\\\n",
    "                        ('eczema' in image_name)]\n",
    "extra_eczema_images[:5]"
   ]
  },
  {
   "cell_type": "code",
   "execution_count": 26,
   "metadata": {
    "id": "j8a4w1xYqV_q"
   },
   "outputs": [
    {
     "name": "stdout",
     "output_type": "stream",
     "text": [
      "There are a total of 1367 eczema images.\n"
     ]
    }
   ],
   "source": [
    "# This was done by moving the extra images into the eczema folder\n",
    "for img in extra_eczema_images:\n",
    "    origin = os.path.join('extra_images/extra_eczema_images_clean/', img)\n",
    "    destination = os.path.join('cleaned_images/eczema_images/', img)\n",
    "    shutil.copy(origin, destination)\n",
    "    \n",
    "# Confirming that the total acne images is 1367 before any cleaning\n",
    "eczema_img = [image_name for image_name in os.listdir('cleaned_images/eczema_images/')] \n",
    "print('There are a total of', len(eczema_img),'eczema images.')"
   ]
  },
  {
   "cell_type": "markdown",
   "metadata": {
    "id": "9Iuwfb_EqV_r"
   },
   "source": [
    "**iii. Removing duplicate images from the folder**"
   ]
  },
  {
   "cell_type": "code",
   "execution_count": 27,
   "metadata": {
    "id": "P9qt21AKqV_r",
    "outputId": "219b5e3f-b0f1-4704-f95e-9e0a4b9f4983"
   },
   "outputs": [
    {
     "name": "stdout",
     "output_type": "stream",
     "text": [
      "There are 1000 eczema images after removing duplicated images.\n"
     ]
    }
   ],
   "source": [
    "# Using a function created earlier to drop duplicates\n",
    "duplicated_images = drop_duplicated_images('cleaned_images/eczema_images/')\n",
    "\n",
    "# Confirming the number of images after dropping duplicates\n",
    "eczema_img = [image_name for image_name in os.listdir('cleaned_images/eczema_images/')] \n",
    "print('There are', len(eczema_img),'eczema images after removing duplicated images.')"
   ]
  },
  {
   "cell_type": "markdown",
   "metadata": {
    "id": "ViuKnF7aqV_v"
   },
   "source": [
    "## **<u>Actinic keratosis</u>**\n",
    "**Meaning** <br>\n",
    "Actinic keratosis(AK) is a skin condition that is caused by long-term exposure to UV rays, resulting in the formation of rough, scaly patches on the skin. It is considered a precancerous condition because it has the potential to develop into squamous cell carcinoma, a type of skin cancer\n",
    "\n",
    "**Causes** <br>\n",
    "The primary cause of actinic keratosis is long-term exposure to UV rays from the sun or other sources such as tanning beds. People with fair skin, light-colored hair, and light-colored eyes are at a higher risk of developing AK. Other risk factors include a history of frequent sunburns, a weakened immune system, and exposure to chemicals such as coal tar or arsenic.\n",
    "\n",
    "**Symptoms** <br>\n",
    "The most common symptom of actinic keratosis is the formation of rough, scaly patches or lesions on the skin. These patches can be pink, red, or brown in color and may feel like sandpaper. They are usually found on areas of the skin that are frequently exposed to the sun, such as the face, scalp, ears, neck, hands, and arms. In some cases, the patches may itch or burn, and they may become inflamed or bleed if they are scratched or rubbed.\n",
    "\n",
    "**Treatment** <br>\n",
    "The treatment of actinic keratosis depends on the severity of the condition. Mild cases may be treated with topical creams or gels that contain medications such as imiquimod, fluorouracil, or diclofenac. These medications work by stimulating the immune system or causing the abnormal cells to die off. In more severe cases, cryotherapy (freezing the lesions with liquid nitrogen) or curettage (scraping off the lesions with a special tool) may be necessary. In rare cases where the lesions have developed into skin cancer, surgical removal may be required. It is also important to take steps to prevent further damage to the skin, such as wearing protective clothing and sunscreen, avoiding tanning beds, and staying out of the sun during peak hours.\n"
   ]
  },
  {
   "cell_type": "markdown",
   "metadata": {},
   "source": [
    "**i. Moving actinic keratosis images in the Image folder to their own folder**"
   ]
  },
  {
   "cell_type": "code",
   "execution_count": 28,
   "metadata": {
    "id": "LFbVJgU1qV_v",
    "outputId": "c25c54b0-dcf8-4853-cab8-d0e8622fad3a"
   },
   "outputs": [
    {
     "name": "stdout",
     "output_type": "stream",
     "text": [
      "['actinic keratosis affecting the face images'\n",
      " 'actinic keratosis affecting the hand images'\n",
      " 'actinic keratosis affecting the legs and feet images'\n",
      " 'actinic keratosis affecting the scalp images'\n",
      " 'actinic keratosis dermoscopy images'\n",
      " 'actinic keratosis on the nose images'\n",
      " 'actinic keratosis treated with imiquimod images'\n",
      " 'granular parakeratosis images' 'keratosis pilaris images'\n",
      " 'seborrhoeic keratosis dermoscopy images' 'seborrhoeic keratosis images'\n",
      " 'solar keratosis affecting the face images'\n",
      " 'solar keratosis affecting the hand images'\n",
      " 'solar keratosis affecting the legs and feet images'\n",
      " 'solar keratosis affecting the scalp images'\n",
      " 'solar keratosis on the nose images'\n",
      " 'solar keratosis treated with imiquimod images']\n"
     ]
    }
   ],
   "source": [
    "# image labels with the name keratosis in DermNet's scrapped data\n",
    "print(image_df[image_df['skin_disorder_name'].str.contains('keratosis')]['skin_disorder_name'].unique())"
   ]
  },
  {
   "cell_type": "markdown",
   "metadata": {
    "id": "R4KskZMPqV_v"
   },
   "source": [
    "Actinic keratosis is also known as solar keratosis or senile keratosis"
   ]
  },
  {
   "cell_type": "code",
   "execution_count": 30,
   "metadata": {},
   "outputs": [],
   "source": [
    "# extra keratosis images and dataframe\n",
    "df = pd.read_csv('Data/ISIC_2019_Training_GroundTruth.csv')\n",
    "\n",
    "# filter df to get rows where AK = 1.0\n",
    "df1 = df.copy()\n",
    "df1 = df1[df1['AK'] == 1.0]\n",
    "df1['skin_disorder_name'] = df1['images']\n",
    "\n",
    "# drop the unwanted columns from df\n",
    "df1 = df1.drop(['MEL', 'NV', 'BCC', 'AK', 'BKL', 'DF', 'VASC', 'SCC', 'UNK'], axis=1)\n",
    "\n",
    "# Loop through each file in the folder and add the skin disorder name to the list\n",
    "img_names = []\n",
    "image_paths = []\n",
    "\n",
    "for file in os.listdir('extra_images/extra_actinic_keratosis_images'):\n",
    "    if file.endswith(\".jpg\"):\n",
    "        skin_disorder_name = file.split(\".\")[0]\n",
    "        img_names.append(skin_disorder_name)\n",
    "        image_paths.append(file)"
   ]
  },
  {
   "cell_type": "code",
   "execution_count": 31,
   "metadata": {
    "id": "GZui2xvcqV_w",
    "outputId": "677ae62b-57e7-4e85-fa1e-b7cb6ce99763"
   },
   "outputs": [
    {
     "name": "stdout",
     "output_type": "stream",
     "text": [
      "There are 1391 actinic keratosis images\n"
     ]
    }
   ],
   "source": [
    "# Getting the keratosis images file names\n",
    "keratosis_img = [image_name for image_name in os.listdir('Images/') if ('actinic keratosis' in image_name) | ('solar keratosis' in image_name)]\n",
    "AK_img = [image_name for image_name in os.listdir('extra_images/extra_AK_and_BKL_images') if any(x in image_name for x in df1['images'].tolist())]\n",
    "AK_img2 = [image_name for image_name in os.listdir('extra_images/extra_actinic_keratosis_images')]\n",
    "\n",
    "# Checking if the folder exists and deleting it if it exists\n",
    "if os.path.exists('cleaned_images/keratosis_images/'):\n",
    "    # deleting the folder and its contents\n",
    "    shutil.rmtree('cleaned_images/keratosis_images/')\n",
    "    \n",
    "# Creating a new folder with just keratosis images to make cleaning easier\n",
    "os.mkdir('cleaned_images/keratosis_images/')\n",
    "for img in keratosis_img:\n",
    "    origin = os.path.join('Images/', img)\n",
    "    destination = os.path.join('cleaned_images/keratosis_images/', img)\n",
    "    shutil.copy(origin, destination)\n",
    "\n",
    "for img in AK_img:\n",
    "    origin = os.path.join('extra_images/extra_AK_and_BKL_images/', img)\n",
    "    destination = os.path.join('cleaned_images/keratosis_images/', img)\n",
    "    shutil.copy(origin, destination)\n",
    "\n",
    "for img in AK_img2:\n",
    "    origin = os.path.join('extra_images/extra_actinic_keratosis_images/', img)\n",
    "    destination = os.path.join('cleaned_images/keratosis_images/', img)\n",
    "    shutil.copy(origin, destination)\n",
    "    \n",
    "# Confirming that the number of keratosis images after moving them to a separate folder is still 1391\n",
    "keratosis_img = [image_name for image_name in os.listdir('cleaned_images/keratosis_images/')] \n",
    "print('There are', len(keratosis_img),'actinic keratosis images')"
   ]
  },
  {
   "cell_type": "markdown",
   "metadata": {},
   "source": [
    "**ii. Removing duplicate images from the folder**"
   ]
  },
  {
   "cell_type": "code",
   "execution_count": 32,
   "metadata": {
    "id": "d6nhTExaqV_w",
    "outputId": "f786761c-c6f4-4972-dd4f-d9fa4fe0cd20"
   },
   "outputs": [
    {
     "name": "stdout",
     "output_type": "stream",
     "text": [
      "Number of actinic keratosis images after removing duplicated images: 1000\n"
     ]
    }
   ],
   "source": [
    "# call function to drop duplicates from image folder \n",
    "duplicated_images = drop_duplicated_images('cleaned_images/keratosis_images/')\n",
    "\n",
    "# number of images after removing duplicates\n",
    "keratosis_img = [image_name for image_name in os.listdir('cleaned_images/keratosis_images/')] \n",
    "print('Number of actinic keratosis images after removing duplicated images:', len(keratosis_img))"
   ]
  },
  {
   "cell_type": "markdown",
   "metadata": {
    "id": "tB9RBN7jqV_y"
   },
   "source": [
    "## **<u>Benign Keratosis-like Lesions**</u>\n",
    "**Meaning** <br>\n",
    "Benign Keratosis-like Lesions (BKL) are a group of benign skin lesions that resemble actinic keratosis (AK) but are not classified as AK because they do not have the same degree of dysplasia. BKL lesions can appear as small, scaly, or waxy bumps on the skin, ranging in color from light tan to dark brown. They typically occur on areas of the skin that have been exposed to the sun, such as the face, neck, scalp, and hands. Examples of BKL lesions include seborrheic keratosis, solar lentigo, and lichen planus-like keratosis.\n",
    " \n",
    "**Causes** <br>\n",
    "The exact cause of BKL is not known, but it is believed to be related to long-term sun exposure. Other factors that may contribute to the development of BKL include a weakened immune system, age, and a history of other skin conditions.\n",
    "\n",
    "**Symptoms**<br>\n",
    "BKL lesions typically appear as small, scaly, or waxy bumps on the skin. They may be light tan to dark brown in color and may have a rough, textured surface. They can be single or multiple and can occur on any part of the body, but are most commonly found on the face, neck, scalp, and hands.\n",
    "\n",
    "**Treatment**<br>\n",
    "BKL lesions are usually benign and do not require treatment unless they are causing symptoms or affecting the patient's appearance. Treatment options may include cryotherapy (freezing the lesion with liquid nitrogen), curettage (scraping the lesion off the skin), or topical medications such as 5-fluorouracil or imiquimod. In some cases, BKL lesions may be biopsied to confirm the diagnosis or rule out other skin conditions. It is important to protect the skin from sun exposure and to seek medical attention for any suspicious skin lesions."
   ]
  },
  {
   "cell_type": "markdown",
   "metadata": {},
   "source": [
    "**i. Moving Benign Keratosis-like Lesions images to their own folder**"
   ]
  },
  {
   "cell_type": "code",
   "execution_count": 33,
   "metadata": {
    "id": "Aq6EtOkqqV_y",
    "outputId": "235fd5ec-76e2-4d0e-bf3d-f728672faded"
   },
   "outputs": [
    {
     "name": "stdout",
     "output_type": "stream",
     "text": [
      "There are 1003 BKL images\n"
     ]
    }
   ],
   "source": [
    "# filter df to get rows where BKL = 1.0\n",
    "BKL_df = df.copy()\n",
    "BKL_df = BKL_df[BKL_df['BKL'] == 1.0]\n",
    "BKL_df = BKL_df[~BKL_df[\"images\"].str.contains(\"downsampled\")]\n",
    "BKL_df['skin_disorder_name'] = BKL_df['images']\n",
    "\n",
    "# drop the unwanted columns and rows from df\n",
    "BKL_df = BKL_df.drop(['MEL', 'NV', 'BCC', 'AK', 'BKL', 'DF', 'VASC', 'SCC', 'UNK'], axis=1)\n",
    "BKL_df = BKL_df[:1003]\n",
    "\n",
    "# Getting the BKL images file names\n",
    "BKL_img = [image_name for image_name in os.listdir('extra_images/extra_AK_and_BKL_images') if any(x in image_name for x in BKL_df['images'].tolist())]\n",
    "\n",
    "# Checking if the folder exists and deleting it if it exists\n",
    "if os.path.exists('cleaned_images/BKL_images/'):\n",
    "    # deleting the folder and its contents\n",
    "    shutil.rmtree('cleaned_images/BKL_images/')\n",
    "    \n",
    "# Creating a new folder with just BKL images to make cleaning easier\n",
    "os.mkdir('cleaned_images/BKL_images/')\n",
    "for img in BKL_img:\n",
    "    origin = os.path.join('extra_images/extra_AK_and_BKL_images/', img)\n",
    "    destination = os.path.join('cleaned_images/BKL_images/', img)\n",
    "    shutil.copy(origin, destination)\n",
    "    \n",
    "# Number of BKL images after moving them to a separate folder\n",
    "BKL_img = [image_name for image_name in os.listdir('cleaned_images/BKL_images/')] \n",
    "print('There are', len(BKL_img),'BKL images')"
   ]
  },
  {
   "cell_type": "markdown",
   "metadata": {},
   "source": [
    "**ii. Removing duplicated images from the folder**"
   ]
  },
  {
   "cell_type": "code",
   "execution_count": 34,
   "metadata": {
    "id": "DPtgMMl2qV_y",
    "outputId": "4b14154e-6bb4-422c-b8ef-7bd7c6dabf97"
   },
   "outputs": [
    {
     "name": "stdout",
     "output_type": "stream",
     "text": [
      "Number of BKL images after removing duplicated images: 1000\n"
     ]
    }
   ],
   "source": [
    "# use the function to drop duplicates from image folder\n",
    "duplicated_images2 = drop_duplicated_images('cleaned_images/BKL_images/')\n",
    "\n",
    "# number of images after removing duplicates\n",
    "BKL_img = [image_name for image_name in os.listdir('cleaned_images/BKL_images/')] \n",
    "print('Number of BKL images after removing duplicated images:', len(BKL_img))"
   ]
  },
  {
   "cell_type": "markdown",
   "metadata": {
    "id": "c9c7SyNwqV_0"
   },
   "source": [
    "## **<u>Melanoma**</u>\n",
    "**Definition**<br>\n",
    "Melanoma is a disease in which malignant (cancer) cells form in melanocytes (cells that color the skin). There are different types of cancer that start in the skin. Melanoma can occur anywhere on the skin. Unusual moles, exposure to sunlight, and health history can affect the risk of melanoma.\n",
    "\n",
    "The most common type of melanoma is superficial spreading melanoma. It tends to spread across the surface of the skin, has uneven borders, and varies in color from brown to black, pink, or red.\n",
    "\n",
    "Nodular melanoma is another type that grows down into deeper layers of the skin and may appear as a raised bump or growth.\n",
    "\n",
    "Lentigo maligna melanoma tends to appear on parts of the body that get more sun, especially the face, and it often affects older people. It looks like a large, uneven dark patch on the surface of the skin.\n",
    "\n",
    "Metastatic melanoma occurs when the cancer spreads, or metastasizes, to other parts of the body, possibly including the lymph nodes, organs, or bones.\n",
    "\n",
    "Other rare types of melanoma also exist, and while it most commonly affects the skin, some affect internal tissues, as well as the eyes."
   ]
  },
  {
   "cell_type": "markdown",
   "metadata": {
    "id": "CHDkysibqV_1"
   },
   "source": [
    "**i. Moving Melanoma images to their own folder**"
   ]
  },
  {
   "cell_type": "code",
   "execution_count": 16,
   "metadata": {
    "id": "0H1z7oAfqV_2",
    "outputId": "688262fa-168a-47ea-ffc9-7c85912ec022"
   },
   "outputs": [
    {
     "name": "stdout",
     "output_type": "stream",
     "text": [
      "['acral lentiginous melanoma images' 'amelanotic melanoma images'\n",
      " 'hypomelanotic malignant melanoma images'\n",
      " 'lentigo maligna melanoma images' 'melanoma in situ images'\n",
      " 'melanoma of nail unit images' 'metastatic melanoma images'\n",
      " 'nodular melanoma images' 'superficial spreading melanoma images']\n"
     ]
    },
    {
     "data": {
      "text/plain": [
       "9"
      ]
     },
     "execution_count": 16,
     "metadata": {},
     "output_type": "execute_result"
    }
   ],
   "source": [
    "## Labels representing melanoma in DermNet's scrapped data\n",
    "melanoma_labels = image_df[image_df['skin_disorder_name'].str.contains('melanoma')]['skin_disorder_name'].unique()\n",
    "print(melanoma_labels)\n",
    "\n",
    "#number of labels representing melanoma\n",
    "len(melanoma_labels)"
   ]
  },
  {
   "cell_type": "code",
   "execution_count": 18,
   "metadata": {
    "id": "RZ_FCTC2qV_3",
    "outputId": "b1e110a0-f794-454b-c5c6-ce010d5fadc0"
   },
   "outputs": [
    {
     "name": "stdout",
     "output_type": "stream",
     "text": [
      "There are 5074 melanoma images\n"
     ]
    }
   ],
   "source": [
    "# Getting the melanoma images file names\n",
    "melanoma_img = [image_name for image_name in os.listdir('Images/') if 'melanoma' in image_name] \n",
    "\n",
    "# Checking if melanoma folder exists and deleting it if it exists\n",
    "if os.path.exists('cleaned_images/melanoma/'):\n",
    "    # deleting the folder and its contents\n",
    "    shutil.rmtree('cleaned_images/melanoma/')\n",
    "    \n",
    "# Creating a new folder with just melanoma images to make cleaning easier\n",
    "os.mkdir('cleaned_images/melanoma/')\n",
    "for img in melanoma_img:\n",
    "    origin = os.path.join('Images/', img)\n",
    "    destination = os.path.join('cleaned_images/melanoma/', img)\n",
    "    shutil.copy(origin, destination)\n",
    "    \n",
    "for filename in os.listdir('extra_images/extra_melanoma_images/'):\n",
    "    src_path = os.path.join('extra_images/extra_melanoma_images/', filename)\n",
    "    dst_path = os.path.join('cleaned_images/melanoma/', filename)\n",
    "    shutil.copy(src_path, dst_path)\n",
    "    \n",
    "# Number of melanoma images after moving them to a separate folder\n",
    "melanoma_img = [image_name for image_name in os.listdir('cleaned_images/melanoma/')] \n",
    "print('There are', len(melanoma_img),'melanoma images')"
   ]
  },
  {
   "cell_type": "markdown",
   "metadata": {
    "id": "Qz8ItHORqV_4"
   },
   "source": [
    "**ii. Removing duplicated images from the folder**"
   ]
  },
  {
   "cell_type": "code",
   "execution_count": 21,
   "metadata": {
    "id": "cSWs1l0nqV_4",
    "outputId": "11a36123-7fd6-4053-9647-be42944867cd"
   },
   "outputs": [
    {
     "name": "stdout",
     "output_type": "stream",
     "text": [
      "There are 4631 melanoma images after removing duplicate images\n"
     ]
    }
   ],
   "source": [
    "# Dropping duplicates\n",
    "duplicated_images = drop_duplicated_images('cleaned_images/melanoma/')\n",
    "\n",
    "melanoma_img = [image_name for image_name in os.listdir('cleaned_images/melanoma/')] \n",
    "print('There are', len(melanoma_img),'melanoma images after removing duplicate images')"
   ]
  },
  {
   "cell_type": "code",
   "execution_count": 37,
   "metadata": {},
   "outputs": [],
   "source": [
    "# Function to randomly select 1000 images \n",
    "def reduce_images(folder_path):\n",
    "    # Get the list of image file name\n",
    "    file_names = os.listdir(folder_path)\n",
    "\n",
    "    # Shuffle the file names\n",
    "    random.shuffle(file_names)\n",
    "\n",
    "    # Select the first 1000 file names\n",
    "    selected_file_names = file_names[:1000]\n",
    "\n",
    "    # Create a new folder to store the selected images\n",
    "    selected_folder_path = f'{folder_path}_images'\n",
    "    os.mkdir(selected_folder_path)\n",
    "\n",
    "    # Copy the selected images to the new folder\n",
    "    for file_name in selected_file_names:\n",
    "        file_path = os.path.join(folder_path, file_name)\n",
    "        selected_file_path = os.path.join(selected_folder_path, file_name)\n",
    "        shutil.copy(file_path, selected_file_path)"
   ]
  },
  {
   "cell_type": "code",
   "execution_count": 39,
   "metadata": {},
   "outputs": [
    {
     "name": "stdout",
     "output_type": "stream",
     "text": [
      "Number of melanoma images: 1000\n"
     ]
    }
   ],
   "source": [
    "# select 1000 images\n",
    "reduce_images('cleaned_images/melanoma')\n",
    "print('Number of melanoma images:', len([image_name for image_name in os.listdir('cleaned_images/melanoma_images/')]))"
   ]
  },
  {
   "cell_type": "markdown",
   "metadata": {
    "id": "6iSR4w1sqV_5"
   },
   "source": [
    "## **<u>Psoriasis </u>**\n",
    "\n",
    "**Meaning**<br>\n",
    "Psoriasis is a chronic autoimmune skin disorder characterized by the rapid buildup of skin cells that form thick, silvery scales and itchy, dry, and red patches on the skin. It is a non-contagious condition that can affect any part of the body, including the scalp, nails, and joints. Psoriasis occurs when the immune system mistakenly attacks healthy skin cells, causing the skin cells to grow too quickly and accumulate on the skin's surface. The condition is typically lifelong and can vary in severity from mild to severe. While there is no cure for psoriasis, there are treatments available that can help manage symptoms and improve quality of life. <br>\n",
    "\n",
    "**Causes**<br>\n",
    "The exact cause of psoriasis is not fully understood, but it is believed to be a combination of genetic, environmental, and immune system factors. Some of the known factors that can trigger or exacerbate psoriasis include:<br>\n",
    "\n",
    "<ol>\n",
    "  <li>Genetics: Psoriasis tends to run in families, suggesting a genetic component to the condition.</li>\n",
    "  <li>Immune system dysfunction: Psoriasis is believed to be an autoimmune disorder, in which the immune system mistakenly attacks healthy skin cells, causing inflammation and other symptoms.</li>\n",
    "  <li>Environmental factors: Certain environmental factors can trigger or worsen psoriasis, such as infections, injuries to the skin, stress, smoking, and alcohol consumption.</li>\n",
    "  <li>Medications: Certain medications, such as lithium, beta-blockers, and antimalarials, can trigger or worsen psoriasis.</li>\n",
    "  <li>Hormonal changes: Changes in hormone levels, such as those that occur during puberty, pregnancy, and menopause, can trigger or worsen psoriasis.</li>\n",
    "</ol>\n",
    "\n",
    "**Symptoms**<br>\n",
    "Psoriasis symptoms can vary depending on the type and severity of the condition, but some common symptoms include:<br>\n",
    "<ol>\n",
    "  <li>Red, inflamed patches of skin: These patches may be covered with thick, silvery scales that may flake off or bleed if scratched.</li>\n",
    "  <li>Dry, cracked skin: The affected skin may be dry and itchy, and may crack and bleed in severe cases.</li>\n",
    "  <li>Thickened, pitted, or ridged nails: Psoriasis can affect the nails, causing them to become thickened, discolored, pitted, or ridged.</li>\n",
    "  <li>Joint pain and stiffness: In some cases, psoriasis can also cause joint pain and stiffness, a condition called psoriatic arthritis.</li>\n",
    "  <li>Itching and burning: Psoriasis patches may be itchy and burning, which can cause discomfort and distress.</li>\n",
    "  <li>Soreness or discomfort: Psoriasis patches can be painful and tender to the touch.</li>\n",
    "</ol>\n",
    "\n",
    "\n",
    "**Treatment**<br>\n",
    "Treatment options for eczema include using gentle soaps and moisturizers, avoiding harsh chemicals and irritants, and taking short, lukewarm baths or showers. Prescription creams or ointments containing corticosteroids or immunosuppressants may be used for more severe cases of eczema. Antihistamines can also be helpful in reducing itching. <br>\n",
    "Preventing flare-ups of eczema can be done by avoiding triggers such as certain foods, allergens, and irritants. Regular use of moisturizers can also help to keep the skin hydrated and reduce the risk of flare-ups.<br>\n",
    "<ol>\n",
    "  <li>Topical medications: These are creams, ointments, gels, or foams that are applied directly to the affected skin to reduce inflammation and itching. Topical medications may include corticosteroids, vitamin D analogues, retinoids, and tar preparations.</li>\n",
    "  <li>Phototherapy: This involves exposing the skin to ultraviolet light to slow down the growth of affected skin cells and reduce inflammation. Phototherapy can be done in a doctor's office or at home using a special light box.</li>\n",
    "  <li>Systemic medications: These are medications that are taken orally or by injection to suppress the immune system and reduce inflammation. Systemic medications may include methotrexate, cyclosporine, and biologics.</li>\n",
    "  <li>Lifestyle changes: Making changes to your diet, reducing stress, and avoiding triggers such as smoking and alcohol consumption may help to reduce the frequency and severity of psoriasis flare-ups.</li>\n",
    "  <li>Moisturizers: Applying moisturizers regularly can help to soothe dry, itchy skin and reduce the risk of flare-ups.</li>\n",
    "</ol>"
   ]
  },
  {
   "cell_type": "markdown",
   "metadata": {
    "id": "F7sXvWdaqV_6"
   },
   "source": [
    "**i. Moving psoriasis images in the Images folder to their own folder**"
   ]
  },
  {
   "cell_type": "code",
   "execution_count": 26,
   "metadata": {
    "id": "04BqnsCEqV_6",
    "outputId": "9a13467a-f38c-4f7e-a269-7ebdd72b50d1"
   },
   "outputs": [
    {
     "name": "stdout",
     "output_type": "stream",
     "text": [
      "['chronic plaque psoriasis images', 'facial psoriasis images', 'flexural psoriasis images', 'generalised pustular psoriasis images', 'genital psoriasis images', 'guttate psoriasis images', 'nail psoriasis images', 'palmoplantar psoriasis images', 'psoriasis affecting the face images', 'psoriasis of the scalp images', 'pustular psoriasis of the hand and feet images']\n"
     ]
    },
    {
     "data": {
      "text/plain": [
       "11"
      ]
     },
     "execution_count": 26,
     "metadata": {},
     "output_type": "execute_result"
    }
   ],
   "source": [
    "# Labels representing acne in DermNet's scrapped data\n",
    "psoriasis_labels = list(image_df[image_df['skin_disorder_name'].str.contains('psoriasis')]['skin_disorder_name'].unique())\n",
    "print(psoriasis_labels)\n",
    "\n",
    "# Count of labels representing psoriasis\n",
    "len(psoriasis_labels)"
   ]
  },
  {
   "cell_type": "code",
   "execution_count": 28,
   "metadata": {
    "id": "hG9Z0qiBqV_8",
    "outputId": "6ddab60f-68de-4f57-b1c0-0d3ca18a1b98"
   },
   "outputs": [
    {
     "name": "stdout",
     "output_type": "stream",
     "text": [
      "There are 1057 psoriasis images\n"
     ]
    }
   ],
   "source": [
    "# Getting the psoriasis images file names\n",
    "psoriasis_img = [image_name for image_name in os.listdir('Images/') if 'psoriasis' in image_name] \n",
    "\n",
    "# Checking if psoriasis folder exists and deleting it if it exists\n",
    "if os.path.exists('cleaned_images/psoriasis/'):\n",
    "    # deleting the folder and its contents\n",
    "    shutil.rmtree('cleaned_images/psoriasis/')\n",
    "    \n",
    "# Creating a new folder with just psoriasis images to make cleaning easier\n",
    "os.mkdir('cleaned_images/psoriasis/')\n",
    "for img in psoriasis_img:\n",
    "    origin = os.path.join('Images/', img)\n",
    "    destination = os.path.join('cleaned_images/psoriasis/', img)\n",
    "    shutil.copy(origin, destination)\n",
    "    \n",
    "for filename in os.listdir('extra_images/extra_psoriasis_images/'):\n",
    "    src_path = os.path.join('extra_images/extra_psoriasis_images/', filename)\n",
    "    dst_path = os.path.join('cleaned_images/psoriasis/', filename)\n",
    "    shutil.copy(src_path, dst_path)\n",
    "    \n",
    "# Number of psoriasis images after moving them to a separate folder\n",
    "psoriasis_img = [image_name for image_name in os.listdir('cleaned_images/psoriasis/')] \n",
    "print('There are', len(psoriasis_img),'psoriasis images')"
   ]
  },
  {
   "cell_type": "markdown",
   "metadata": {
    "id": "QzifdEt_qV__"
   },
   "source": [
    "**ii. Removing duplicated images from the folder**"
   ]
  },
  {
   "cell_type": "code",
   "execution_count": 29,
   "metadata": {
    "id": "mbUHlmNxqV__",
    "outputId": "eff8c765-be89-44e7-ac7d-9a572655fcce"
   },
   "outputs": [
    {
     "name": "stdout",
     "output_type": "stream",
     "text": [
      "There are 1006 psoriasis images after removing duplicate images\n"
     ]
    }
   ],
   "source": [
    "# Dropping duplicates\n",
    "duplicated_images = drop_duplicated_images('cleaned_images/psoriasis/')\n",
    "\n",
    "psoriasis_img = [image_name for image_name in os.listdir('cleaned_images/psoriasis/')] \n",
    "print('There are', len(psoriasis_img),'psoriasis images after removing duplicate images')"
   ]
  },
  {
   "cell_type": "code",
   "execution_count": 41,
   "metadata": {
    "id": "TibDZ5sqqV__",
    "outputId": "0f3a0bb7-e3f4-48ef-85b9-13305f435967"
   },
   "outputs": [
    {
     "name": "stdout",
     "output_type": "stream",
     "text": [
      "Number of psoriasis images: 1000\n"
     ]
    }
   ],
   "source": [
    "# select 1000 images\n",
    "reduce_images('cleaned_images/psoriasis')\n",
    "print('Number of psoriasis images:', len([image_name for image_name in os.listdir('cleaned_images/psoriasis_images/')]))"
   ]
  },
  {
   "cell_type": "markdown",
   "metadata": {
    "id": "rUdqkaytqbKk"
   },
   "source": [
    "## **<u>Basal cell carcinoma</u>**\n",
    "**Meaning**<br>\n",
    "Basal cell carcinoma (BCC) is a malignant tumor that also arises from the basal cells in the skin. It is the most common type of skin cancer. Malignant tumors are more dangerous than benign tumors because they can grow quickly and invade and destroy surrounding tissues, leading to significant damage to the body's normal functions.\n",
    "\n",
    "**Causes**<br>\n",
    "Basal cell carcinoma are primarily caused by exposure to ultraviolet (UV) radiation from the sun or tanning beds. Prolonged exposure to UV radiation damages the DNA in the skin cells, leading to mutations that can cause the cells to grow and divide uncontrollably, eventually forming a tumor. Other factors that may increase the risk of developing these skin cancers include having fair skin, a history of sunburns or intense sun exposure, a weakened immune system, a family history of skin cancer, and certain genetic conditions.\n",
    "\n",
    "**Symptoms**<br>\n",
    "Basal cell carcinoma can have similar symptoms, but there are some differences. The condition typically present as raised, pearly, or translucent bumps or lesions on the skin that may be pink, red, or white in color. These lesions can sometimes ulcerate or bleed, and may develop a crust or scab. This sometimes appear as a flat, scaly, or pigmented patch on the skin.\n",
    "\n",
    "**Treatment**<br>\n",
    "Basal cell carcinoma treatment plan depends on the size, location, and extent of the tumor. Surgical removal of the tumor is the primary treatment, and there are different techniques available, such as excision, curettage and electrodesiccation, Mohs surgery, or radiation therapy. For small tumors, excision may be sufficient, while Mohs surgery is recommended for larger or more advanced tumors to ensure complete removal. Radiation therapy may be used as an alternative to surgery for some cases. Systemic chemotherapy or immunotherapy is rarely used for advanced basal cell carcinoma that has spread to other parts of the body."
   ]
  },
  {
   "cell_type": "markdown",
   "metadata": {},
   "source": [
    "**i. Moving BCC images in the Images folder to their own folder**"
   ]
  },
  {
   "cell_type": "code",
   "execution_count": 70,
   "metadata": {
    "id": "YFm71R5vqu_Q"
   },
   "outputs": [
    {
     "name": "stdout",
     "output_type": "stream",
     "text": [
      "There are 1073 BCC images\n"
     ]
    }
   ],
   "source": [
    "# filter df to get rows where BKL = 1.0\n",
    "BCC_df = df.copy()\n",
    "BCC_df = BCC_df[BCC_df['BCC'] == 1.0]\n",
    "BCC_df = BCC_df[~BCC_df[\"images\"].str.contains(\"downsampled\")]\n",
    "BCC_df['skin_disorder_name'] = BCC_df['images']\n",
    "\n",
    "# drop the unwanted columns and rows from df\n",
    "BCC_df = BCC_df.drop(['MEL', 'NV', 'BCC', 'AK', 'BKL', 'DF', 'VASC', 'SCC', 'UNK'], axis=1)\n",
    "BCC_df = BCC_df[:1073]\n",
    "\n",
    "# Getting the BCC images file names\n",
    "BCC_img = [image_name for image_name in os.listdir('extra_images/extra_Bcc_images') if any(x in image_name for x in BCC_df['images'].tolist())]\n",
    "\n",
    "# Checking if the folder exists and deleting it if it exists\n",
    "if os.path.exists('cleaned_images/Bcc_images'):\n",
    "    # deleting the folder and its contents\n",
    "    shutil.rmtree('cleaned_images/Bcc_images')\n",
    "    \n",
    "# Creating a new folder with just BCC images to make cleaning easier\n",
    "os.mkdir('cleaned_images/Bcc_images')\n",
    "for img in BCC_img:\n",
    "    origin = os.path.join('extra_images/extra_Bcc_images/', img)\n",
    "    destination = os.path.join('cleaned_images/Bcc_images/', img)\n",
    "    shutil.copy(origin, destination)\n",
    "    \n",
    "# Number of BCC images after moving them to a separate folder\n",
    "BCC_img = [image_name for image_name in os.listdir('cleaned_images/Bcc_images')] \n",
    "print('There are', len(BCC_img),'BCC images')"
   ]
  },
  {
   "cell_type": "markdown",
   "metadata": {},
   "source": [
    "**ii. Removing duplicated images from the folder**"
   ]
  },
  {
   "cell_type": "code",
   "execution_count": 71,
   "metadata": {},
   "outputs": [
    {
     "name": "stdout",
     "output_type": "stream",
     "text": [
      "Number of BCC images after removing duplicated images: 1000\n"
     ]
    }
   ],
   "source": [
    "# use the function to drop duplicates from image folder\n",
    "duplicated_images2 = drop_duplicated_images('cleaned_images/Bcc_images/')\n",
    "\n",
    "# number of images after removing duplicates\n",
    "BCC_img = [image_name for image_name in os.listdir('cleaned_images/Bcc_images')] \n",
    "print('Number of BCC images after removing duplicated images:', len(BCC_img))"
   ]
  },
  {
   "cell_type": "markdown",
   "metadata": {},
   "source": [
    "## **<u>Tinea </u>**\n",
    "\n",
    "**Meaning**<br>\n",
    "Tinea is popularly known as Ringworm (scalp and body). It is a type of fungal infection of the skin, hair, or nails. It is caused by a group of fungi called dermatophytes, which can thrive on the skin's keratin, a tough protein that forms the outer layer of the skin, hair, and nails. It can affect various parts of the body, including the feet (athlete's foot), groin (jock itch), scalp (tinea capitis), beard area (tinea barbae), and body (tinea corporis).<br>\n",
    "Tinea infections are highly contagious and can spread through contact with infected skin or objects. Treatment for tinea typically involves antifungal medications, which can be applied topically or taken orally. It is also important to practice good hygiene and avoid sharing personal items, such as towels and clothing, to prevent the spread of infection. <br>\n",
    "\n",
    "**Causes**<br>\n",
    "Tinea is caused by a group of fungi called dermatophytes. These fungi can thrive on the skin, hair, or nails and cause infections in various parts of the body. The specific type of dermatophyte that causes tinea may vary depending on the affected area. <br>\n",
    "Some of the common causes of tinea include:<br>\n",
    "\n",
    "<ol>\n",
    "  <li>Direct contact with an infected person or animal - Tinea can spread from person to person or from animal to person through direct contact with infected skin or hair.</li>\n",
    "  <li>Sharing personal items - Sharing personal items such as towels, clothing, or hairbrushes can also spread tinea.</li>\n",
    "  <li>Warm and humid environment - Dermatophytes thrive in warm and humid environments, making certain areas of the body more susceptible to tinea infections, such as the feet and groin.</li>\n",
    "  <li>Weakened immune system - People with weakened immune systems, such as those with HIV or undergoing chemotherapy, may be more prone to tinea infections.</li>\n",
    "  <li>Skin injury or irritation - Skin that is injured or irritated, such as from scratching or wearing tight-fitting clothing, may be more susceptible to tinea infections.</li>\n",
    "</ol>\n",
    "Preventing the spread of tinea involves good hygiene practices, such as keeping the skin clean and dry, avoiding sharing personal items, and wearing protective clothing in public areas such as locker rooms and swimming pools.\n",
    "\n",
    "**Symptoms**<br>\n",
    "The symptoms of tinea can vary depending on the affected area of the body. Some common symptoms of tinea infections include:<br>\n",
    "<ol>\n",
    "  <li>Itching - Tinea infections can cause intense itching, which can be worse at night.</li>\n",
    "  <li>Scaling or flaking - Tinea infections can cause the skin to become scaly or flaky.</li>\n",
    "  <li>Blisters - Some types of tinea infections, such as tinea pedis (athlete's foot), can cause small fluid-filled blisters.</li>\n",
    "  <li>Hair loss - Tinea infections of the scalp can cause hair to become brittle and break off, resulting in hair loss.</li>\n",
    "  <li>Thickened or discolored nails - Tinea infections of the nails can cause the nails to become thickened, discolored, and brittle.</li>\n",
    "</ol>\n",
    "\n",
    "**Treatment**<br>\n",
    "The treatment for tinea infections typically involves antifungal medications, which can be applied topically or taken orally. The specific treatment will depend on the location and severity of the infection. Some common treatment options include:<br>\n",
    "<ol>\n",
    "  <li>Topical antifungal medications - These medications are applied directly to the skin or nails and include creams, ointments, sprays, and powders. Topical antifungal medications are often effective for mild to moderate tinea infections.</li>\n",
    "  <li>Oral antifungal medications - These medications are taken by mouth and may be prescribed for more severe or widespread tinea infections. Oral antifungal medications include terbinafine, fluconazole, and itraconazole.</li>\n",
    "  <li>Medicated shampoo - A medicated shampoo may be recommended for tinea infections of the scalp. These shampoos contain antifungal medication and are used to help control the infection and reduce symptoms.</li>\n",
    "  <li>Removal of infected nails - In severe cases of tinea infections of the nails, the infected nail may need to be removed to allow for the application of antifungal medication to the underlying nail bed.</li>\n",
    "</ol>"
   ]
  },
  {
   "cell_type": "markdown",
   "metadata": {},
   "source": [
    "**i. Moving tinea images in the Images folder to their own folder**"
   ]
  },
  {
   "cell_type": "code",
   "execution_count": 5,
   "metadata": {},
   "outputs": [
    {
     "data": {
      "text/plain": [
       "array(['tinea corporis images', 'tinea pedis images'], dtype=object)"
      ]
     },
     "execution_count": 5,
     "metadata": {},
     "output_type": "execute_result"
    }
   ],
   "source": [
    "## Labels representing tinea in DermNet's scrapped data\n",
    "tinea_labels = image_df[image_df['skin_disorder_name'].str.contains('tinea')]['skin_disorder_name'].unique()\n",
    "tinea_labels"
   ]
  },
  {
   "cell_type": "code",
   "execution_count": 9,
   "metadata": {},
   "outputs": [
    {
     "name": "stdout",
     "output_type": "stream",
     "text": [
      "There are 1678 tinea images\n"
     ]
    }
   ],
   "source": [
    "# Getting the tinea images file names\n",
    "tinea_img = [image_name for image_name in os.listdir('Images/') if 'tinea' in image_name]\n",
    "\n",
    "# Checking if tinea folder exists and deleting it if it exists\n",
    "if os.path.exists('cleaned_images/tinea/'):\n",
    "    # deleting the folder and its contents\n",
    "    shutil.rmtree('cleaned_images/tinea/')\n",
    "    \n",
    "# Creating a new folder with just tinea images to make cleaning easier\n",
    "os.mkdir('cleaned_images/tinea/')\n",
    "for img in tinea_img:\n",
    "    origin = os.path.join('Images/', img)\n",
    "    destination = os.path.join('cleaned_images/tinea/', img)\n",
    "    shutil.copy(origin, destination)\n",
    "    \n",
    "for filename in os.listdir('extra_images/extra_tinea_images/'):\n",
    "    src_path = os.path.join('extra_images/extra_tinea_images/', filename)\n",
    "    dst_path = os.path.join('cleaned_images/tinea/', filename)\n",
    "    shutil.copy(src_path, dst_path)\n",
    "    \n",
    "# Number of tinea images after moving them to a separate folder\n",
    "tinea_img = [image_name for image_name in os.listdir('cleaned_images/tinea/')] \n",
    "print('There are', len(tinea_img),'tinea images')"
   ]
  },
  {
   "cell_type": "markdown",
   "metadata": {},
   "source": [
    "**ii. Removing duplicated images from the folder**"
   ]
  },
  {
   "cell_type": "code",
   "execution_count": 13,
   "metadata": {},
   "outputs": [
    {
     "name": "stdout",
     "output_type": "stream",
     "text": [
      "There are 1661 tinea images after removing duplicate images\n"
     ]
    }
   ],
   "source": [
    "# Dropping duplicates\n",
    "duplicated_images = drop_duplicated_images('cleaned_images/tinea/')\n",
    "\n",
    "tinea_img = [image_name for image_name in os.listdir('cleaned_images/tinea/')] \n",
    "print('There are', len(tinea_img),'tinea images after removing duplicate images')"
   ]
  },
  {
   "cell_type": "code",
   "execution_count": 15,
   "metadata": {},
   "outputs": [
    {
     "name": "stdout",
     "output_type": "stream",
     "text": [
      "Number of tinea images: 1000\n"
     ]
    }
   ],
   "source": [
    "# select 1000 images\n",
    "reduce_images('cleaned_images/tinea')\n",
    "print('Number of tinea images:', len([image_name for image_name in os.listdir('cleaned_images/tinea_images/')]))"
   ]
  }
 ],
 "metadata": {
  "colab": {
   "provenance": []
  },
  "kernelspec": {
   "display_name": "Python 3 (ipykernel)",
   "language": "python",
   "name": "python3"
  },
  "language_info": {
   "codemirror_mode": {
    "name": "ipython",
    "version": 3
   },
   "file_extension": ".py",
   "mimetype": "text/x-python",
   "name": "python",
   "nbconvert_exporter": "python",
   "pygments_lexer": "ipython3",
   "version": "3.9.13"
  },
  "vscode": {
   "interpreter": {
    "hash": "15e1ea0e9ae73a04f4db62dd1e96b3b16ca57ecdaaf21916cbbe9da1fa870ff9"
   }
  }
 },
 "nbformat": 4,
 "nbformat_minor": 1
}
=======
version https://git-lfs.github.com/spec/v1
oid sha256:4e49cf49ebc274b454caeea74aae23ff1751eeb3154f57dcd6f5ad5ed1514fdb
size 66769
>>>>>>> 2dde0cd78ea2b946211b3bd43b6970ece7677a86
